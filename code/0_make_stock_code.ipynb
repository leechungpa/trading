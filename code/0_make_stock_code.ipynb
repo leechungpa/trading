{
 "cells": [
  {
   "cell_type": "markdown",
   "metadata": {},
   "source": [
    "# 주식코드 정보 불러오기"
   ]
  },
  {
   "cell_type": "code",
   "execution_count": 1,
   "metadata": {},
   "outputs": [],
   "source": [
    "import pandas as pd"
   ]
  },
  {
   "cell_type": "code",
   "execution_count": 2,
   "metadata": {},
   "outputs": [],
   "source": [
    "def get_stockinfo_from_krx(market_type):\n",
    "    '''krx 홈페이지를 이용하여 주식이름에 따른 코드명 및 기타 정보 포함된 dataframe 반환\n",
    "    \n",
    "    market_type = 'kospi' 또는 'kosdaq'\n",
    "    '''\n",
    "    stock_type = {'kospi': 'stockMkt',\n",
    "              'kosdaq': 'kosdaqMkt'}\n",
    "    market_code = {'kospi': '.KS',\n",
    "              'kosdaq': '.KQ'}\n",
    "    url = 'http://kind.krx.co.kr/corpgeneral/corpList.do?method=download&marketType=' + stock_type[market_type]\n",
    "    df = pd.read_html(url)[0]\n",
    "    df.종목코드 = df.종목코드.map(('{:06d}'+ market_code[market_type]).format)\n",
    "    return df"
   ]
  },
  {
   "cell_type": "code",
   "execution_count": 3,
   "metadata": {},
   "outputs": [],
   "source": [
    "kospi = get_stockinfo_from_krx('kospi')\n",
    "kosdaq = get_stockinfo_from_krx('kosdaq')\n",
    "total = pd.concat([kospi, kosdaq])"
   ]
  },
  {
   "cell_type": "code",
   "execution_count": 4,
   "metadata": {},
   "outputs": [],
   "source": [
    "kospi.to_csv('../data/key_data/kospi_code.csv')\n",
    "kosdaq.to_csv('../data/key_data/kosdaq_code.csv')\n",
    "total.to_csv('../data/key_data/total_code.csv')"
   ]
  },
  {
   "cell_type": "code",
   "execution_count": 5,
   "metadata": {},
   "outputs": [],
   "source": [
    "kospi.to_pickle('../data/key_data/kospi_code.pkl')\n",
    "kosdaq.to_pickle('../data/key_data/kosdaq_code.pkl')\n",
    "total.to_pickle('../data/key_data/total_code.pkl')"
   ]
  },
  {
   "cell_type": "markdown",
   "metadata": {},
   "source": [
    "# 주식 코드 함수"
   ]
  },
  {
   "cell_type": "code",
   "execution_count": 6,
   "metadata": {},
   "outputs": [],
   "source": [
    "def get_code(data, name):\n",
    "    ''' 주식명 입력시 코드명 반환\n",
    "    \n",
    "    data : '회사명'과 '종목코드' 칼럼이 포함된 pandas.DataFrame\n",
    "    name : 차을 회사명\n",
    "    '''\n",
    "    code = data.query(\"회사명=='{}'\".format(name))['종목코드'].values[0]\n",
    "    return code"
   ]
  },
  {
   "cell_type": "markdown",
   "metadata": {},
   "source": [
    "# 크롤링 예제"
   ]
  },
  {
   "cell_type": "code",
   "execution_count": 7,
   "metadata": {},
   "outputs": [],
   "source": [
    "from pandas_datareader import data"
   ]
  },
  {
   "cell_type": "code",
   "execution_count": 8,
   "metadata": {},
   "outputs": [
    {
     "data": {
      "text/plain": [
       "'066570.KS'"
      ]
     },
     "execution_count": 8,
     "metadata": {},
     "output_type": "execute_result"
    }
   ],
   "source": [
    "get_code(total, 'LG전자')"
   ]
  },
  {
   "cell_type": "code",
   "execution_count": 9,
   "metadata": {},
   "outputs": [
    {
     "data": {
      "text/html": [
       "<div>\n",
       "<style scoped>\n",
       "    .dataframe tbody tr th:only-of-type {\n",
       "        vertical-align: middle;\n",
       "    }\n",
       "\n",
       "    .dataframe tbody tr th {\n",
       "        vertical-align: top;\n",
       "    }\n",
       "\n",
       "    .dataframe thead th {\n",
       "        text-align: right;\n",
       "    }\n",
       "</style>\n",
       "<table border=\"1\" class=\"dataframe\">\n",
       "  <thead>\n",
       "    <tr style=\"text-align: right;\">\n",
       "      <th></th>\n",
       "      <th>High</th>\n",
       "      <th>Low</th>\n",
       "      <th>Open</th>\n",
       "      <th>Close</th>\n",
       "      <th>Volume</th>\n",
       "      <th>Adj Close</th>\n",
       "    </tr>\n",
       "    <tr>\n",
       "      <th>Date</th>\n",
       "      <th></th>\n",
       "      <th></th>\n",
       "      <th></th>\n",
       "      <th></th>\n",
       "      <th></th>\n",
       "      <th></th>\n",
       "    </tr>\n",
       "  </thead>\n",
       "  <tbody>\n",
       "    <tr>\n",
       "      <th>2004-01-02</th>\n",
       "      <td>58085.898438</td>\n",
       "      <td>57202.800781</td>\n",
       "      <td>57791.601562</td>\n",
       "      <td>57497.199219</td>\n",
       "      <td>777329.0</td>\n",
       "      <td>50437.656250</td>\n",
       "    </tr>\n",
       "    <tr>\n",
       "      <th>2004-01-05</th>\n",
       "      <td>58184.000000</td>\n",
       "      <td>56908.500000</td>\n",
       "      <td>56908.500000</td>\n",
       "      <td>57399.101562</td>\n",
       "      <td>745326.0</td>\n",
       "      <td>50351.601562</td>\n",
       "    </tr>\n",
       "    <tr>\n",
       "      <th>2004-01-06</th>\n",
       "      <td>59165.199219</td>\n",
       "      <td>55142.398438</td>\n",
       "      <td>57987.800781</td>\n",
       "      <td>57791.601562</td>\n",
       "      <td>1841047.0</td>\n",
       "      <td>50695.910156</td>\n",
       "    </tr>\n",
       "    <tr>\n",
       "      <th>2004-01-07</th>\n",
       "      <td>58282.101562</td>\n",
       "      <td>57202.800781</td>\n",
       "      <td>57889.699219</td>\n",
       "      <td>58085.898438</td>\n",
       "      <td>1099593.0</td>\n",
       "      <td>50954.078125</td>\n",
       "    </tr>\n",
       "    <tr>\n",
       "      <th>2004-01-08</th>\n",
       "      <td>58380.300781</td>\n",
       "      <td>55338.601562</td>\n",
       "      <td>57791.601562</td>\n",
       "      <td>55436.699219</td>\n",
       "      <td>2582398.0</td>\n",
       "      <td>48630.148438</td>\n",
       "    </tr>\n",
       "    <tr>\n",
       "      <th>...</th>\n",
       "      <td>...</td>\n",
       "      <td>...</td>\n",
       "      <td>...</td>\n",
       "      <td>...</td>\n",
       "      <td>...</td>\n",
       "      <td>...</td>\n",
       "    </tr>\n",
       "    <tr>\n",
       "      <th>2020-08-26</th>\n",
       "      <td>90200.000000</td>\n",
       "      <td>86800.000000</td>\n",
       "      <td>90200.000000</td>\n",
       "      <td>87900.000000</td>\n",
       "      <td>1571474.0</td>\n",
       "      <td>87900.000000</td>\n",
       "    </tr>\n",
       "    <tr>\n",
       "      <th>2020-08-27</th>\n",
       "      <td>88700.000000</td>\n",
       "      <td>85500.000000</td>\n",
       "      <td>87700.000000</td>\n",
       "      <td>86200.000000</td>\n",
       "      <td>1330067.0</td>\n",
       "      <td>86200.000000</td>\n",
       "    </tr>\n",
       "    <tr>\n",
       "      <th>2020-08-28</th>\n",
       "      <td>87900.000000</td>\n",
       "      <td>85200.000000</td>\n",
       "      <td>87100.000000</td>\n",
       "      <td>85900.000000</td>\n",
       "      <td>954228.0</td>\n",
       "      <td>85900.000000</td>\n",
       "    </tr>\n",
       "    <tr>\n",
       "      <th>2020-08-31</th>\n",
       "      <td>87300.000000</td>\n",
       "      <td>84200.000000</td>\n",
       "      <td>86100.000000</td>\n",
       "      <td>84200.000000</td>\n",
       "      <td>1388783.0</td>\n",
       "      <td>84200.000000</td>\n",
       "    </tr>\n",
       "    <tr>\n",
       "      <th>2020-09-01</th>\n",
       "      <td>87900.000000</td>\n",
       "      <td>84700.000000</td>\n",
       "      <td>85100.000000</td>\n",
       "      <td>87700.000000</td>\n",
       "      <td>1133236.0</td>\n",
       "      <td>87700.000000</td>\n",
       "    </tr>\n",
       "  </tbody>\n",
       "</table>\n",
       "<p>4147 rows × 6 columns</p>\n",
       "</div>"
      ],
      "text/plain": [
       "                    High           Low          Open         Close     Volume  \\\n",
       "Date                                                                            \n",
       "2004-01-02  58085.898438  57202.800781  57791.601562  57497.199219   777329.0   \n",
       "2004-01-05  58184.000000  56908.500000  56908.500000  57399.101562   745326.0   \n",
       "2004-01-06  59165.199219  55142.398438  57987.800781  57791.601562  1841047.0   \n",
       "2004-01-07  58282.101562  57202.800781  57889.699219  58085.898438  1099593.0   \n",
       "2004-01-08  58380.300781  55338.601562  57791.601562  55436.699219  2582398.0   \n",
       "...                  ...           ...           ...           ...        ...   \n",
       "2020-08-26  90200.000000  86800.000000  90200.000000  87900.000000  1571474.0   \n",
       "2020-08-27  88700.000000  85500.000000  87700.000000  86200.000000  1330067.0   \n",
       "2020-08-28  87900.000000  85200.000000  87100.000000  85900.000000   954228.0   \n",
       "2020-08-31  87300.000000  84200.000000  86100.000000  84200.000000  1388783.0   \n",
       "2020-09-01  87900.000000  84700.000000  85100.000000  87700.000000  1133236.0   \n",
       "\n",
       "               Adj Close  \n",
       "Date                      \n",
       "2004-01-02  50437.656250  \n",
       "2004-01-05  50351.601562  \n",
       "2004-01-06  50695.910156  \n",
       "2004-01-07  50954.078125  \n",
       "2004-01-08  48630.148438  \n",
       "...                  ...  \n",
       "2020-08-26  87900.000000  \n",
       "2020-08-27  86200.000000  \n",
       "2020-08-28  85900.000000  \n",
       "2020-08-31  84200.000000  \n",
       "2020-09-01  87700.000000  \n",
       "\n",
       "[4147 rows x 6 columns]"
      ]
     },
     "execution_count": 9,
     "metadata": {},
     "output_type": "execute_result"
    }
   ],
   "source": [
    "start_date = '2004-01-01'\n",
    "end_date = '2020-09-01'\n",
    "code = get_code(total, 'LG전자')\n",
    "\n",
    "df = data.DataReader(code, 'yahoo', start_date, end_date)\n",
    "\n",
    "df"
   ]
  }
 ],
 "metadata": {
  "kernelspec": {
   "display_name": "Python 3",
   "language": "python",
   "name": "python3"
  },
  "language_info": {
   "codemirror_mode": {
    "name": "ipython",
    "version": 3
   },
   "file_extension": ".py",
   "mimetype": "text/x-python",
   "name": "python",
   "nbconvert_exporter": "python",
   "pygments_lexer": "ipython3",
   "version": "3.7.7"
  },
  "toc": {
   "base_numbering": 1,
   "nav_menu": {},
   "number_sections": true,
   "sideBar": true,
   "skip_h1_title": false,
   "title_cell": "Table of Contents",
   "title_sidebar": "Contents",
   "toc_cell": false,
   "toc_position": {},
   "toc_section_display": true,
   "toc_window_display": false
  },
  "varInspector": {
   "cols": {
    "lenName": 16,
    "lenType": 16,
    "lenVar": 40
   },
   "kernels_config": {
    "python": {
     "delete_cmd_postfix": "",
     "delete_cmd_prefix": "del ",
     "library": "var_list.py",
     "varRefreshCmd": "print(var_dic_list())"
    },
    "r": {
     "delete_cmd_postfix": ") ",
     "delete_cmd_prefix": "rm(",
     "library": "var_list.r",
     "varRefreshCmd": "cat(var_dic_list()) "
    }
   },
   "types_to_exclude": [
    "module",
    "function",
    "builtin_function_or_method",
    "instance",
    "_Feature"
   ],
   "window_display": false
  }
 },
 "nbformat": 4,
 "nbformat_minor": 4
}
